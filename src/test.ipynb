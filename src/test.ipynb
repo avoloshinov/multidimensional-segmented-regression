{
 "cells": [
  {
   "cell_type": "code",
   "execution_count": 1,
   "metadata": {},
   "outputs": [
    {
     "name": "stdout",
     "output_type": "stream",
     "text": [
      "Piecewise in 2 dimensions:\n",
      "\n",
      "changes with increasing number of samples:\n",
      "\n",
      "number of samples: 1600\n",
      "number of pieces in true function: 16\n",
      "number of pieces in output: 99\n",
      "MSE: 0.3665856823596459\n",
      "\n",
      " 16.398211 seconds (27.78 M allocations: 1.233 GiB, 4.22% gc time)\n",
      "\n",
      "number of samples: 16000\n",
      "number of pieces in true function: 16\n",
      "number of pieces in output: 129\n",
      "MSE: 0.05204712455065946\n",
      "\n",
      "190.107878 seconds (1.04 G allocations: 25.342 GiB, 1.17% gc time)\n",
      "\n",
      "number of samples: 6400\n",
      "number of pieces in true function: 64\n",
      "number of pieces in output: 407\n",
      "MSE: 0.35926679105419135\n",
      "\n",
      " 29.474740 seconds (168.59 M allocations: 4.601 GiB, 1.35% gc time)\n",
      "\n",
      "number of samples: 12800\n",
      "number of pieces in true function: 64\n",
      "number of pieces in output: 504\n",
      "MSE: 0.22913687677766412\n",
      "\n",
      "123.247337 seconds (665.34 M allocations: 16.553 GiB, 1.16% gc time)\n",
      "\n",
      "changes with increasing number of pieces in output\n",
      "\n",
      "number of samples: 1600\n",
      "number of pieces in true function: 16\n",
      "number of pieces in output: 100\n",
      "MSE: 0.36752392222812774\n",
      "\n",
      "  2.176510 seconds (10.91 M allocations: 449.363 MiB, 3.73% gc time)\n",
      "\n",
      "number of samples: 16000\n",
      "number of pieces in true function: 16\n",
      "number of pieces in output: 25\n",
      "MSE: 0.008917140015233678\n",
      "\n",
      "191.415187 seconds (1.03 G allocations: 25.005 GiB, 0.97% gc time)\n",
      "\n",
      "number of samples: 16000\n",
      "number of pieces in true function: 16\n",
      "number of pieces in output: 29\n",
      "MSE: 0.27757927679243083\n",
      "\n",
      "195.141906 seconds (1.03 G allocations: 24.962 GiB, 1.07% gc time)\n",
      "Piecewise in 3 dimensions\n",
      "\n",
      "number of samples: 6400\n",
      "number of pieces in true function: 64\n",
      "number of pieces in output: 708\n",
      "MSE: 0.4387277030224436\n",
      "\n",
      " 46.173658 seconds (248.45 M allocations: 6.250 GiB, 1.11% gc time)\n",
      "\n",
      "number of samples: 12800\n",
      "number of pieces in true function: 64\n",
      "number of pieces in output: 167\n",
      "MSE: 0.07601503152769075\n",
      "\n",
      "188.446631 seconds (988.22 M allocations: 23.451 GiB, 0.98% gc time)\n"
     ]
    }
   ],
   "source": [
    "using PyPlot\n",
    "\n",
    "cd(\"C:\\\\Users\\\\Anastasia\\\\Documents\\\\GitHub\\\\multidimensional-segmented-regression\\\\src\")\n",
    "include(\"experiments.jl\")"
   ]
  },
  {
   "cell_type": "code",
   "execution_count": null,
   "metadata": {},
   "outputs": [],
   "source": []
  }
 ],
 "metadata": {
  "kernelspec": {
   "display_name": "Julia 1.0.3",
   "language": "julia",
   "name": "julia-1.0"
  },
  "language_info": {
   "file_extension": ".jl",
   "mimetype": "application/julia",
   "name": "julia",
   "version": "1.0.3"
  }
 },
 "nbformat": 4,
 "nbformat_minor": 2
}
